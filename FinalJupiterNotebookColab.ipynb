{
  "cells": [
    {
      "cell_type": "code",
      "execution_count": null,
      "id": "07876204",
      "metadata": {
        "id": "07876204"
      },
      "outputs": [],
      "source": [
        "from functions.happiest_country_year import get_happiest_country_last_year\n",
        "from functions.happiness_report import get_happiest_countries_by_continent\n",
        "from functions.happiness_over_years import get_max_score_countries_by_year\n",
        "from functions.get_happiness_rank_vs_gdp import get_happiness_rank_vs_gdp\n",
        "from functions.get_world_gdp_variation import get_world_gdp_variation\n",
        "from functions.life_expectancy_report import get_life_expectancy_change\n",
        "#Tittle\n",
        "print(\"\\033[1m\\033[4mFinal project\\033[0m\\n\")"
      ]
    },
    {
      "cell_type": "code",
      "execution_count": null,
      "id": "4669d69f",
      "metadata": {
        "scrolled": true,
        "id": "4669d69f"
      },
      "outputs": [],
      "source": [
        "# First question: What is the happiest country in 2021 according to the data?\n",
        "# (considering that the column \"Ladder score\" - the higher the number, the happier the country)\n",
        "print(\" 1. \" + get_happiest_country_last_year())"
      ]
    },
    {
      "cell_type": "code",
      "execution_count": null,
      "id": "60a51080",
      "metadata": {
        "scrolled": false,
        "id": "60a51080"
      },
      "outputs": [],
      "source": [
        "# Second question: What is the happiest country in 2021 by continent according to the data?\n",
        "print(\" 2. \" + get_happiest_countries_by_continent())"
      ]
    },
    {
      "cell_type": "code",
      "execution_count": null,
      "id": "24e36f43",
      "metadata": {
        "id": "24e36f43"
      },
      "outputs": [],
      "source": [
        "# Third question: Which country has held the first place the most times in all years?\n",
        "print(\" 3. \" + get_max_score_countries_by_year())"
      ]
    },
    {
      "cell_type": "code",
      "execution_count": null,
      "id": "327fabf8",
      "metadata": {
        "scrolled": true,
        "id": "327fabf8"
      },
      "outputs": [],
      "source": [
        "# Fourth question: What is the Happiness ranking of the country with the highest GDP in 2020?\n",
        "print(\" 4. \" + get_happiness_rank_vs_gdp())"
      ]
    },
    {
      "cell_type": "code",
      "execution_count": null,
      "id": "1d8598e9",
      "metadata": {
        "id": "1d8598e9"
      },
      "outputs": [],
      "source": [
        "# Fifth question: What is the percentage change in the world's average GDP from 2020 to 2021?\n",
        "# Did it increase or decrease?\n",
        "print(\" 5. \" + get_world_gdp_variation())"
      ]
    },
    {
      "cell_type": "code",
      "execution_count": null,
      "id": "c024e003",
      "metadata": {
        "scrolled": true,
        "id": "c024e003"
      },
      "outputs": [],
      "source": [
        "# What is the country with the highest healthy life expectancy at birth? And what was its value in that indicator in 2019?\n",
        "print(\" 6. \" + get_life_expectancy_change())"
      ]
    },
    {
      "cell_type": "code",
      "execution_count": null,
      "id": "818d2342",
      "metadata": {
        "id": "818d2342"
      },
      "outputs": [],
      "source": []
    }
  ],
  "metadata": {
    "kernelspec": {
      "display_name": "Python 3 (ipykernel)",
      "language": "python",
      "name": "python3"
    },
    "language_info": {
      "codemirror_mode": {
        "name": "ipython",
        "version": 3
      },
      "file_extension": ".py",
      "mimetype": "text/x-python",
      "name": "python",
      "nbconvert_exporter": "python",
      "pygments_lexer": "ipython3",
      "version": "3.10.7"
    },
    "colab": {
      "provenance": []
    }
  },
  "nbformat": 4,
  "nbformat_minor": 5
}