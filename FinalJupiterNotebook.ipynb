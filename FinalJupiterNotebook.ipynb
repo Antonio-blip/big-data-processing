{
 "cells": [
  {
   "cell_type": "code",
   "execution_count": 1,
   "id": "07876204",
   "metadata": {},
   "outputs": [
    {
     "name": "stdout",
     "output_type": "stream",
     "text": [
      "\u001b[1m\u001b[4mFinal project\u001b[0m\n",
      "\n"
     ]
    }
   ],
   "source": [
    "from functions.happiest_country_year import get_happiest_country_last_year\n",
    "from functions.happiness_report import get_happiest_countries_by_continent\n",
    "from functions.happiness_over_years import get_max_score_countries_by_year\n",
    "from functions.get_happiness_rank_vs_gdp import get_happiness_rank_vs_gdp\n",
    "from functions.get_world_gdp_variation import get_world_gdp_variation\n",
    "from functions.life_expectancy_report import get_life_expectancy_change\n",
    "#Tittle\n",
    "print(\"\\033[1m\\033[4mFinal project\\033[0m\\n\")"
   ]
  },
  {
   "cell_type": "code",
   "execution_count": 2,
   "id": "4669d69f",
   "metadata": {
    "scrolled": true
   },
   "outputs": [
    {
     "name": "stdout",
     "output_type": "stream",
     "text": [
      " 1. The happiest country in the world in 2021 was: Finland\n",
      "\n",
      "\n"
     ]
    }
   ],
   "source": [
    "# First question: What is the happiest country in 2021 according to the data?\n",
    "# (considering that the column \"Ladder score\" - the higher the number, the happier the country)\n",
    "print(\" 1. \" + get_happiest_country_last_year())"
   ]
  },
  {
   "cell_type": "code",
   "execution_count": 3,
   "id": "60a51080",
   "metadata": {
    "scrolled": false
   },
   "outputs": [
    {
     "name": "stdout",
     "output_type": "stream",
     "text": [
      " 2. Shown here are the countries with the highest happiness score by continent in 2021 \n",
      "\n",
      "                       Country name  Ladder score\n",
      "Continent                                        \n",
      "Africa                       Israel         7.157\n",
      "America                  Costa Rica         7.069\n",
      "Asia       Taiwan Province of China         6.584\n",
      "Europe                      Finland         7.842\n",
      "Oceania                 New Zealand         7.277\n",
      "\n",
      "\n"
     ]
    }
   ],
   "source": [
    "# Second question: What is the happiest country in 2021 by continent according to the data?\n",
    "print(\" 2. \" + get_happiest_countries_by_continent())"
   ]
  },
  {
   "cell_type": "code",
   "execution_count": 4,
   "id": "24e36f43",
   "metadata": {},
   "outputs": [
    {
     "name": "stdout",
     "output_type": "stream",
     "text": [
      " 3. These are the data of the countries that have obtained the best score and how many times they have obtained them along the years\n",
      "\n",
      "    Country  Total times\n",
      "    Denmark            7\n",
      "    Finland            7\n",
      "     Canada            1\n",
      "     Norway            1\n",
      "Switzerland            1\n",
      "\n",
      "   ● That is to say, the country/countries that held first place for the most years is/are: Denmark, Finland.\n",
      "   ● The maximum number of times the highest score has been achieved is: 7\n",
      "\n",
      "\n"
     ]
    }
   ],
   "source": [
    "# Third question: Which country has held the first place the most times in all years?\n",
    "print(\" 3. \" + get_max_score_countries_by_year())"
   ]
  },
  {
   "cell_type": "code",
   "execution_count": 5,
   "id": "327fabf8",
   "metadata": {
    "scrolled": true
   },
   "outputs": [
    {
     "name": "stdout",
     "output_type": "stream",
     "text": [
      " 4. The country with the highest Log GDP per capita in 2020 is Ireland, and it is in position 13 of the Life Ladder ranking.\n",
      "\n",
      "\n"
     ]
    }
   ],
   "source": [
    "# Fourth question: What is the Happiness ranking of the country with the highest GDP in 2020?\n",
    "print(\" 4. \" + get_happiness_rank_vs_gdp())"
   ]
  },
  {
   "cell_type": "code",
   "execution_count": 6,
   "id": "1d8598e9",
   "metadata": {},
   "outputs": [
    {
     "name": "stdout",
     "output_type": "stream",
     "text": [
      " 5. The world's average GDP decreased by -3.27% from 2020 to 2021.\n",
      "\n",
      "\n"
     ]
    }
   ],
   "source": [
    "# Fifth question: What is the percentage change in the world's average GDP from 2020 to 2021?\n",
    "# Did it increase or decrease?\n",
    "print(\" 5. \" + get_world_gdp_variation())"
   ]
  },
  {
   "cell_type": "code",
   "execution_count": 7,
   "id": "c024e003",
   "metadata": {
    "scrolled": true
   },
   "outputs": [
    {
     "name": "stdout",
     "output_type": "stream",
     "text": [
      " 6. There is a little life expectancy report \n",
      "    ● The country with the highest Healthy life expectancy in 2021 is Singapore. \n",
      "    ● The Healthy life expectancy for Singapore in 2019 was 77.10.  \n",
      "    ● The Healthy life expectancy for Singapore in 2021 is 76.95. \n",
      "    ● There has been a decrease of -0.19% in healthy life expectancy for Singapore between 2019 and 2021. \n",
      "\n",
      "\n"
     ]
    }
   ],
   "source": [
    "# What is the country with the highest healthy life expectancy at birth? And what was its value in that indicator in 2019?\n",
    "print(\" 6. \" + get_life_expectancy_change())"
   ]
  },
  {
   "cell_type": "code",
   "execution_count": null,
   "id": "818d2342",
   "metadata": {},
   "outputs": [],
   "source": []
  }
 ],
 "metadata": {
  "kernelspec": {
   "display_name": "Python 3 (ipykernel)",
   "language": "python",
   "name": "python3"
  },
  "language_info": {
   "codemirror_mode": {
    "name": "ipython",
    "version": 3
   },
   "file_extension": ".py",
   "mimetype": "text/x-python",
   "name": "python",
   "nbconvert_exporter": "python",
   "pygments_lexer": "ipython3",
   "version": "3.10.7"
  }
 },
 "nbformat": 4,
 "nbformat_minor": 5
}
